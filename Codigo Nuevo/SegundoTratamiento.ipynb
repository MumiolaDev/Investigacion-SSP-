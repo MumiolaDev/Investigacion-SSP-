{
 "cells": [
  {
   "cell_type": "code",
   "execution_count": 1,
   "metadata": {},
   "outputs": [
    {
     "name": "stdout",
     "output_type": "stream",
     "text": [
      "Juntand Links...\n",
      "5697\n"
     ]
    },
    {
     "ename": "FileNotFoundError",
     "evalue": "[Errno 2] No such file or directory: 'Codigo Nuevo\\\\FIELDS\\\\data_0.cdf'",
     "output_type": "error",
     "traceback": [
      "\u001b[1;31m---------------------------------------------------------------------------\u001b[0m",
      "\u001b[1;31mFileNotFoundError\u001b[0m                         Traceback (most recent call last)",
      "Cell \u001b[1;32mIn[1], line 8\u001b[0m\n\u001b[0;32m      5\u001b[0m field_mag_link \u001b[39m=\u001b[39m\u001b[39m'\u001b[39m\u001b[39mhttps://spdf.gsfc.nasa.gov/pub/data/psp/fields/l2/mag_rtn/\u001b[39m\u001b[39m'\u001b[39m\n\u001b[0;32m      6\u001b[0m eph_link \u001b[39m=\u001b[39m \u001b[39m'\u001b[39m\u001b[39mhttps://spdf.gsfc.nasa.gov/pub/data/psp/ephemeris/helio1day/\u001b[39m\u001b[39m'\u001b[39m\n\u001b[1;32m----> 8\u001b[0m data_mag \u001b[39m=\u001b[39m ObtenerDatas(data_keys\u001b[39m=\u001b[39;49m[\u001b[39m'\u001b[39;49m\u001b[39mepoch_mag_RTN\u001b[39;49m\u001b[39m'\u001b[39;49m, \u001b[39m'\u001b[39;49m\u001b[39mpsp_fld_l2_mag_RTN\u001b[39;49m\u001b[39m'\u001b[39;49m] ,\n\u001b[0;32m      9\u001b[0m                         desde\u001b[39m=\u001b[39;49m\u001b[39m75\u001b[39;49m,hasta\u001b[39m=\u001b[39;49m\u001b[39m80\u001b[39;49m, link_origen\u001b[39m=\u001b[39;49mfield_mag_link, carpeta\u001b[39m=\u001b[39;49m\u001b[39m\"\u001b[39;49m\u001b[39mCodigo Nuevo\u001b[39;49m\u001b[39m\\\u001b[39;49m\u001b[39mFIELDS\u001b[39;49m\u001b[39m\"\u001b[39;49m )\n\u001b[0;32m     10\u001b[0m \u001b[39m#data_eph = ObtenerDatas(data_keys=['Epoch', 'RAD_AU'], link_origen=eph_link)\u001b[39;00m\n",
      "File \u001b[1;32mc:\\Users\\dorla\\Desktop\\Unidad\\Investigacion_Diego\\Codigo Nuevo\\Test_de_visualizacion.py:100\u001b[0m, in \u001b[0;36mObtenerDatas\u001b[1;34m(data_keys, desde, hasta, link_origen, carpeta)\u001b[0m\n\u001b[0;32m     98\u001b[0m respuesta \u001b[39m=\u001b[39m requests\u001b[39m.\u001b[39mget(url)\n\u001b[0;32m     99\u001b[0m \u001b[39mif\u001b[39;00m respuesta\u001b[39m.\u001b[39mstatus_code \u001b[39m==\u001b[39m \u001b[39m200\u001b[39m:\n\u001b[1;32m--> 100\u001b[0m     \u001b[39mwith\u001b[39;00m \u001b[39mopen\u001b[39;49m(filename, \u001b[39m'\u001b[39;49m\u001b[39mwb\u001b[39;49m\u001b[39m'\u001b[39;49m) \u001b[39mas\u001b[39;00m tmp_file:\n\u001b[0;32m    101\u001b[0m         \u001b[39mprint\u001b[39m(\u001b[39m'\u001b[39m\u001b[39mDescargando set de datos numero: \u001b[39m\u001b[39m'\u001b[39m\u001b[39m+\u001b[39m\u001b[39mstr\u001b[39m(cont))\n\u001b[0;32m    102\u001b[0m         tmp_file\u001b[39m.\u001b[39mwrite(respuesta\u001b[39m.\u001b[39mcontent)\n",
      "\u001b[1;31mFileNotFoundError\u001b[0m: [Errno 2] No such file or directory: 'Codigo Nuevo\\\\FIELDS\\\\data_0.cdf'"
     ]
    }
   ],
   "source": [
    "from Test_de_visualizacion import *\n",
    "import numpy as np\n",
    "import matplotlib.pyplot as plt\n",
    "\n",
    "field_mag_link ='https://spdf.gsfc.nasa.gov/pub/data/psp/fields/l2/mag_rtn/'\n",
    "eph_link = 'https://spdf.gsfc.nasa.gov/pub/data/psp/ephemeris/helio1day/'\n",
    "\n",
    "data_mag = ObtenerDatas(data_keys=['epoch_mag_RTN', 'psp_fld_l2_mag_RTN'] ,\n",
    "                        desde=75,hasta=80, link_origen=field_mag_link, carpeta=\"Codigo Nuevo\\FIELDS\" )\n",
    "#data_eph = ObtenerDatas(data_keys=['Epoch', 'RAD_AU'], link_origen=eph_link)\n"
   ]
  },
  {
   "cell_type": "code",
   "execution_count": null,
   "metadata": {},
   "outputs": [],
   "source": [
    "epoch = LimpiarDivergencias(data_mag[0])\n",
    "B = LimpiarDivergencias(data_mag[1])\n",
    "\n",
    "#print(eph_epoch.size,eph_rad.size)\n",
    "B = LimpiarDivergencias(data_mag[1])\n",
    "\n",
    "\n",
    "plt.plot(epoch,B)"
   ]
  }
 ],
 "metadata": {
  "kernelspec": {
   "display_name": "Python 3",
   "language": "python",
   "name": "python3"
  },
  "language_info": {
   "codemirror_mode": {
    "name": "ipython",
    "version": 3
   },
   "file_extension": ".py",
   "mimetype": "text/x-python",
   "name": "python",
   "nbconvert_exporter": "python",
   "pygments_lexer": "ipython3",
   "version": "3.10.6"
  },
  "orig_nbformat": 4
 },
 "nbformat": 4,
 "nbformat_minor": 2
}
